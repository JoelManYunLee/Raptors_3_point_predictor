{
 "cells": [
  {
   "cell_type": "code",
   "execution_count": 47,
   "metadata": {},
   "outputs": [],
   "source": [
    "import pandas as pd \n",
    "import numpy as np \n",
    "\n",
    "from nba_api.stats.static import teams, players\n",
    "from nba_api.stats.endpoints import teamgamelog\n",
    "from nba_api.stats.endpoints import BoxScoreAdvancedV3\n",
    "from nba_api.stats.endpoints.teamestimatedmetrics import TeamEstimatedMetrics\n",
    "from nba_api.stats.library.parameters import LeagueID"
   ]
  },
  {
   "cell_type": "code",
   "execution_count": 48,
   "metadata": {},
   "outputs": [],
   "source": [
    "# Get team ID for the Toronto Raptors\n",
    "team_dict = teams.get_teams()\n",
    "raptors = [team for team in team_dict if team['abbreviation'] == 'TOR'][0]\n",
    "raptors_id = raptors['id']\n",
    "\n",
    "# Get team ID for matchup\n",
    "opp_abbreviation = 'BOS'\n",
    "opponent = [team for team in team_dict if team['abbreviation'] == opp_abbreviation][0]\n",
    "opp_id = opponent['id']\n",
    "\n",
    "# Set season\n",
    "chosen_season='2023-24'\n",
    "\n",
    "# Set game type\n",
    "game_type = 'Regular Season'"
   ]
  },
  {
   "cell_type": "code",
   "execution_count": 52,
   "metadata": {},
   "outputs": [
    {
     "name": "stdout",
     "output_type": "stream",
     "text": [
      "      Team_ID     Game_ID     GAME_DATE      MATCHUP WL   W   L  W_PCT  MIN  \\\n",
      "0  1610612761  0022300923  MAR 09, 2024    TOR @ POR  L  23  41  0.359  265   \n",
      "1  1610612761  0022300905  MAR 07, 2024    TOR @ PHX  L  23  40  0.365  240   \n",
      "2  1610612761  0022300890  MAR 05, 2024  TOR vs. NOP  L  23  39  0.371  240   \n",
      "3  1610612761  0022300875  MAR 03, 2024  TOR vs. CHA  W  23  38  0.377  240   \n",
      "4  1610612761  0022300860  MAR 01, 2024  TOR vs. GSW  L  22  38  0.367  240   \n",
      "\n",
      "   FGM  ...  FT_PCT  OREB  DREB  REB  AST  STL  BLK  TOV  PF  PTS  \n",
      "0   43  ...   0.842     9    34   43   29    9    6   20  18  118  \n",
      "1   43  ...   0.733     9    27   36   30    5    2    9  20  113  \n",
      "2   36  ...   0.591    11    34   45   21    6    7   11  11   98  \n",
      "3   42  ...   0.778    11    34   45   27    8    6   14  16  111  \n",
      "4   41  ...   0.647    11    36   47   31    9    2   14  14  105  \n",
      "\n",
      "[5 rows x 27 columns]\n"
     ]
    }
   ],
   "source": [
    "# Get all of the Raptors games\n",
    "raptors_game_log = teamgamelog.TeamGameLog(\n",
    "    team_id=raptors_id,\n",
    "    season=chosen_season,\n",
    "    season_type_all_star = game_type,\n",
    "    league_id_nullable = ''\n",
    ")\n",
    "\n",
    "# Access the game log data\n",
    "raptors_games_data = raptors_game_log.team_game_log.get_dict()['data']\n",
    "\n",
    "# Create a DataFrame with labeled columns\n",
    "columns = raptors_game_log.expected_data['TeamGameLog']\n",
    "raptors_df = pd.DataFrame(raptors_games_data, columns=columns)\n",
    "\n",
    "\n",
    "# Print the head of the DataFrame\n",
    "print(raptors_df.head())"
   ]
  },
  {
   "cell_type": "code",
   "execution_count": 4,
   "metadata": {},
   "outputs": [
    {
     "name": "stdout",
     "output_type": "stream",
     "text": [
      "         FGM        FGA    FG_PCT      FG3M       FG3A   FG3_PCT        FTM  \\\n",
      "0  42.952381  90.428571  0.475651  11.84127  33.349206  0.354667  16.365079   \n",
      "\n",
      "         FTA    FT_PCT       OREB       DREB        REB        AST       STL  \\\n",
      "0  21.952381  0.746111  11.269841  32.396825  43.666667  29.253968  7.507937   \n",
      "\n",
      "        BLK        TOV         PF         PTS  \n",
      "0  4.888889  12.698413  18.285714  114.111111  \n"
     ]
    }
   ],
   "source": [
    "# Drop the unneccesary information\n",
    "columns_to_drop = ['Team_ID', 'Game_ID', 'GAME_DATE', 'MATCHUP', 'W', 'L', 'WL', 'W_PCT', 'MIN']\n",
    "\n",
    "# Drop the specified columns\n",
    "filtered_raptors_games_data = raptors_df.drop(columns=columns_to_drop)\n",
    "\n",
    "# Calculate the average stats\n",
    "raptors_average_stats = filtered_raptors_games_data.mean()\n",
    "\n",
    "# Convert the result to a DataFrame\n",
    "raptors_average_stats_df = pd.DataFrame(raptors_average_stats).T\n",
    "\n",
    "# Print the DataFrame with average stats\n",
    "print(raptors_average_stats_df)\n",
    "\n",
    "# Add to data\n",
    "data = pd.concat([data, raptors_average_stats_df], axis=1)\n"
   ]
  },
  {
   "cell_type": "code",
   "execution_count": 5,
   "metadata": {},
   "outputs": [
    {
     "name": "stdout",
     "output_type": "stream",
     "text": [
      "   vsBOS_FGM  vsBOS_FGA  vsBOS_FG_PCT  vsBOS_FG3M  vsBOS_FG3A  vsBOS_FG3_PCT  \\\n",
      "0      39.75       92.0       0.43275       10.75        36.5        0.28625   \n",
      "\n",
      "   vsBOS_FTM  vsBOS_FTA  vsBOS_FT_PCT  vsBOS_OREB  vsBOS_DREB  vsBOS_REB  \\\n",
      "0       13.0      17.75        0.7325         7.5        34.5       42.0   \n",
      "\n",
      "   vsBOS_AST  vsBOS_STL  vsBOS_BLK  vsBOS_TOV  vsBOS_PF  vsBOS_PTS  \n",
      "0       27.0        7.0        2.5        8.0     15.25     103.25  \n"
     ]
    }
   ],
   "source": [
    "# Filter rows where 'MATCHUP' column ends with opponent abbreviation\n",
    "opp_games = raptors_df[\n",
    "    raptors_df['MATCHUP'].str.endswith(opp_abbreviation)\n",
    "]\n",
    "\n",
    "# Drop the unneccesary information\n",
    "columns_to_drop = ['Team_ID', 'Game_ID', 'GAME_DATE', 'MATCHUP', 'W', 'L', 'WL', 'W_PCT', 'MIN']\n",
    "\n",
    "# Drop the specified columns\n",
    "opp_games = opp_games.drop(columns=columns_to_drop)\n",
    "\n",
    "# Calculate the average stats against the opponent\n",
    "average_stats_opp = opp_games.mean()\n",
    "\n",
    "# Convert the result to a DataFrame\n",
    "average_stats_opp_df = pd.DataFrame(average_stats_opp).T\n",
    "\n",
    "#Rename columns for matchup\n",
    "average_stats_opp_df = average_stats_opp_df.add_prefix(f'vs{opp_abbreviation}_')\n",
    "\n",
    "# Print the DataFrame with average stats against opponent\n",
    "print(average_stats_opp_df)\n",
    "\n",
    "# Add to data\n",
    "data = pd.concat([data, average_stats_opp_df], axis=1)"
   ]
  },
  {
   "cell_type": "code",
   "execution_count": 6,
   "metadata": {},
   "outputs": [
    {
     "name": "stdout",
     "output_type": "stream",
     "text": [
      "   FGM  FGA  FG_PCT  FG3M  FG3A  FG3_PCT  FTM  FTA  FT_PCT  OREB  DREB  REB  \\\n",
      "0   43   94   0.457    16    44    0.364   11   15   0.733     9    27   36   \n",
      "1   36   93   0.387    13    44    0.295   13   22   0.591    11    34   45   \n",
      "2   42   91   0.462    13    38    0.342   14   18   0.778    11    34   45   \n",
      "3   41   96   0.427    12    45    0.267   11   17   0.647    11    36   47   \n",
      "4   46   98   0.469    13    35    0.371   20   30   0.667    12    32   44   \n",
      "\n",
      "   AST  STL  BLK  TOV  PF  PTS  \n",
      "0   30    5    2    9  20  113  \n",
      "1   21    6    7   11  11   98  \n",
      "2   27    8    6   14  16  111  \n",
      "3   31    9    2   14  14  105  \n",
      "4   34   11    3   11  21  125  \n"
     ]
    }
   ],
   "source": [
    "# Select the last 5 games\n",
    "last_5_games = raptors_df.head(5)\n",
    "\n",
    "# Drop the unneccesary information\n",
    "columns_to_drop = ['Team_ID', 'Game_ID', 'GAME_DATE', 'MATCHUP', 'W', 'L', 'WL', 'W_PCT', 'MIN']\n",
    "\n",
    "# Drop the specified columns\n",
    "last_5_games = last_5_games.drop(columns=columns_to_drop)\n",
    "\n",
    "# Print the DataFrame of the last 5 games\n",
    "print(last_5_games)"
   ]
  },
  {
   "cell_type": "code",
   "execution_count": 7,
   "metadata": {},
   "outputs": [
    {
     "name": "stdout",
     "output_type": "stream",
     "text": [
      "   last_5_FGM  last_5_FGA  last_5_FG_PCT  last_5_FG3M  last_5_FG3A  \\\n",
      "0        41.6        94.4         0.4404         13.4         41.2   \n",
      "\n",
      "   last_5_FG3_PCT  last_5_FTM  last_5_FTA  last_5_FT_PCT  last_5_OREB  \\\n",
      "0          0.3278        13.8        20.4         0.6832         10.8   \n",
      "\n",
      "   last_5_DREB  last_5_REB  last_5_AST  last_5_STL  last_5_BLK  last_5_TOV  \\\n",
      "0         32.6        43.4        28.6         7.8         4.0        11.8   \n",
      "\n",
      "   last_5_PF  last_5_PTS  \n",
      "0       16.4       110.4  \n"
     ]
    }
   ],
   "source": [
    "# Calculate the average stats for the last 5 games\n",
    "average_stats_last_5 = last_5_games.mean()\n",
    "\n",
    "# Convert the result to a DataFrame\n",
    "average_stats_last_5_df = pd.DataFrame(average_stats_last_5).T  # T is used to transpose the result to a single-row DataFrame\n",
    "\n",
    "# Add Last_5 to each column name\n",
    "average_stats_last_5_df = average_stats_last_5_df.add_prefix('last_5_')\n",
    "\n",
    "# Print the DataFrame with average stats for the last 5 games\n",
    "print(average_stats_last_5_df)\n",
    "\n",
    "# Add to data\n",
    "data = pd.concat([data, average_stats_last_5_df], axis=1)"
   ]
  },
  {
   "cell_type": "code",
   "execution_count": 8,
   "metadata": {},
   "outputs": [],
   "source": [
    "# Set the parameters for the API request\n",
    "league_id = LeagueID.default\n",
    "season = chosen_season  # Replace with the desired season\n",
    "season_type = game_type\n",
    "\n",
    "# Create an instance of TeamEstimatedMetrics with the specified parameters\n",
    "raptors_estimated_metrics = TeamEstimatedMetrics(\n",
    "    league_id=league_id,\n",
    "    season=season,\n",
    "    season_type=season_type,\n",
    ")\n",
    "\n",
    "# Get the estimated metrics data\n",
    "estimated_metrics_data = raptors_estimated_metrics.team_estimated_metrics.get_dict()['data']\n",
    "\n",
    "# Add column names\n",
    "column_names = TeamEstimatedMetrics.expected_data['TeamEstimatedMetrics']\n",
    "\n",
    "# Convert to dataframe with appropriate column names\n",
    "estimated_metrics_df = pd.DataFrame(estimated_metrics_data, columns=column_names)"
   ]
  },
  {
   "cell_type": "code",
   "execution_count": 9,
   "metadata": {},
   "outputs": [
    {
     "name": "stdout",
     "output_type": "stream",
     "text": [
      "    TOR_E_OFF_RATING  TOR_E_DEF_RATING  TOR_E_NET_RATING  TOR_E_PACE  \\\n",
      "12             111.7             115.0              -3.2       101.7   \n",
      "\n",
      "    TOR_E_AST_RATIO  TOR_E_OREB_PCT  TOR_E_DREB_PCT  TOR_E_REB_PCT  \\\n",
      "12             20.3            0.25           0.748          0.494   \n",
      "\n",
      "    TOR_E_TM_TOV_PCT  TOR_GP_RANK  ...  TOR_MIN_RANK  TOR_E_OFF_RATING_RANK  \\\n",
      "12              0.13           11  ...            14                     21   \n",
      "\n",
      "    TOR_E_DEF_RATING_RANK  TOR_E_NET_RATING_RANK  TOR_E_AST_RATIO_RANK  \\\n",
      "12                     23                     23                     4   \n",
      "\n",
      "    TOR_E_OREB_PCT_RANK  TOR_E_DREB_PCT_RANK  TOR_E_REB_PCT_RANK  \\\n",
      "12                   14                   21                  20   \n",
      "\n",
      "    TOR_E_TM_TOV_PCT_RANK  TOR_E_PACE_RANK  \n",
      "12                     15               13  \n",
      "\n",
      "[1 rows x 23 columns]\n"
     ]
    }
   ],
   "source": [
    "# Create a filtered dataframe for the Raptors data\n",
    "raptors_estimated_metrics_df = estimated_metrics_df[\n",
    "    (estimated_metrics_df['TEAM_NAME'] == 'Toronto Raptors') | (estimated_metrics_df['TEAM_ID'] == raptors_id)\n",
    "]\n",
    "\n",
    "# List of columns to drop\n",
    "columns_to_drop = ['TEAM_NAME', 'TEAM_ID', 'GP', 'W', 'L', 'W_PCT', 'MIN']\n",
    "\n",
    "# Drop the specified columns\n",
    "raptors_estimated_metrics_df = raptors_estimated_metrics_df.drop(columns=columns_to_drop)\n",
    "\n",
    "# Add prefix to column name\n",
    "raptors_estimated_metrics_df = raptors_estimated_metrics_df.add_prefix('TOR_')\n",
    "\n",
    "# Print the DataFrame with Raptors' stats\n",
    "print(raptors_estimated_metrics_df)\n",
    "\n",
    "# Add to data\n",
    "data = data.reset_index(drop=True)\n",
    "raptors_estimated_metrics_df = raptors_estimated_metrics_df.reset_index(drop=True)\n",
    "\n",
    "\n",
    "data = pd.concat([data, raptors_estimated_metrics_df], axis=1)"
   ]
  },
  {
   "cell_type": "code",
   "execution_count": 10,
   "metadata": {},
   "outputs": [
    {
     "name": "stdout",
     "output_type": "stream",
     "text": [
      "    BOS_E_OFF_RATING  BOS_E_DEF_RATING  BOS_E_NET_RATING  BOS_E_PACE  \\\n",
      "19             119.4             108.7              10.7       100.3   \n",
      "\n",
      "    BOS_E_AST_RATIO  BOS_E_OREB_PCT  BOS_E_DREB_PCT  BOS_E_REB_PCT  \\\n",
      "19             18.9           0.246           0.767           0.52   \n",
      "\n",
      "    BOS_E_TM_TOV_PCT  BOS_GP_RANK  ...  BOS_MIN_RANK  BOS_E_OFF_RATING_RANK  \\\n",
      "19             0.122           26  ...            29                      1   \n",
      "\n",
      "    BOS_E_DEF_RATING_RANK  BOS_E_NET_RATING_RANK  BOS_E_AST_RATIO_RANK  \\\n",
      "19                      3                      1                    17   \n",
      "\n",
      "    BOS_E_OREB_PCT_RANK  BOS_E_DREB_PCT_RANK  BOS_E_REB_PCT_RANK  \\\n",
      "19                   16                    8                   4   \n",
      "\n",
      "    BOS_E_TM_TOV_PCT_RANK  BOS_E_PACE_RANK  \n",
      "19                      4               20  \n",
      "\n",
      "[1 rows x 23 columns]\n"
     ]
    }
   ],
   "source": [
    "# Create a filtered dataframe for the opponent's data\n",
    "opp_estimated_metrics_df = estimated_metrics_df[\n",
    "    (estimated_metrics_df['TEAM_ID'] == opp_id)\n",
    "]\n",
    "\n",
    "# List of columns to drop\n",
    "columns_to_drop = ['TEAM_NAME', 'TEAM_ID', 'GP', 'W', 'L', 'W_PCT', 'MIN']\n",
    "\n",
    "# Drop the specified columns\n",
    "opp_estimated_metrics_df = opp_estimated_metrics_df.drop(columns=columns_to_drop)\n",
    "\n",
    "opp_estimated_metrics_df = opp_estimated_metrics_df.add_prefix(f'{opp_abbreviation}_')\n",
    "\n",
    "# Print the DataFrame with opponent's stats\n",
    "print(opp_estimated_metrics_df)\n",
    "\n",
    "# Add to data\n",
    "data = data.reset_index(drop=True)\n",
    "opp_estimated_metrics_df = opp_estimated_metrics_df.reset_index(drop=True)\n",
    "\n",
    "data = pd.concat([data, opp_estimated_metrics_df], axis=1)"
   ]
  },
  {
   "cell_type": "code",
   "execution_count": 11,
   "metadata": {},
   "outputs": [
    {
     "name": "stdout",
     "output_type": "stream",
     "text": [
      "         FGM        FGA    FG_PCT      FG3M       FG3A   FG3_PCT        FTM  \\\n",
      "0  42.952381  90.428571  0.475651  11.84127  33.349206  0.354667  16.365079   \n",
      "\n",
      "         FTA    FT_PCT       OREB  ...  BOS_MIN_RANK  BOS_E_OFF_RATING_RANK  \\\n",
      "0  21.952381  0.746111  11.269841  ...            29                      1   \n",
      "\n",
      "   BOS_E_DEF_RATING_RANK  BOS_E_NET_RATING_RANK  BOS_E_AST_RATIO_RANK  \\\n",
      "0                      3                      1                    17   \n",
      "\n",
      "   BOS_E_OREB_PCT_RANK  BOS_E_DREB_PCT_RANK  BOS_E_REB_PCT_RANK  \\\n",
      "0                   16                    8                   4   \n",
      "\n",
      "   BOS_E_TM_TOV_PCT_RANK  BOS_E_PACE_RANK  \n",
      "0                      4               20  \n",
      "\n",
      "[1 rows x 100 columns]\n"
     ]
    }
   ],
   "source": [
    "print(data)"
   ]
  }
 ],
 "metadata": {
  "kernelspec": {
   "display_name": "MSCI446",
   "language": "python",
   "name": "python3"
  },
  "language_info": {
   "codemirror_mode": {
    "name": "ipython",
    "version": 3
   },
   "file_extension": ".py",
   "mimetype": "text/x-python",
   "name": "python",
   "nbconvert_exporter": "python",
   "pygments_lexer": "ipython3",
   "version": "3.11.7"
  }
 },
 "nbformat": 4,
 "nbformat_minor": 2
}
