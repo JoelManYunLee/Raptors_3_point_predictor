{
 "cells": [
  {
   "cell_type": "code",
   "execution_count": 16,
   "metadata": {},
   "outputs": [],
   "source": [
    "import pandas as pd\n",
    "import numpy as np\n",
    "\n",
    "from sklearn.model_selection import train_test_split\n",
    "from sklearn.feature_selection import SelectFromModel\n",
    "from sklearn.ensemble import RandomForestRegressor\n",
    "from sklearn.metrics import mean_squared_error\n",
    "from sklearn.model_selection import cross_val_score, KFold\n",
    "from sklearn.linear_model import Ridge, Lasso"
   ]
  },
  {
   "cell_type": "code",
   "execution_count": 17,
   "metadata": {},
   "outputs": [],
   "source": [
    "#Get stats from csv\n",
    "games_df = pd.read_csv('game_data.csv')"
   ]
  },
  {
   "cell_type": "code",
   "execution_count": 18,
   "metadata": {},
   "outputs": [],
   "source": [
    "#Splitting testing and training data with FG3M as the output\n",
    "columns_to_drop = ['FG3M']\n",
    "X = games_df.drop(columns_to_drop, axis=1)\n",
    "y = games_df['FG3M']\n",
    "\n",
    "X_train, X_test, y_train, y_test = train_test_split(X, y, test_size=0.2, random_state=42)"
   ]
  },
  {
   "cell_type": "code",
   "execution_count": 19,
   "metadata": {},
   "outputs": [
    {
     "name": "stderr",
     "output_type": "stream",
     "text": [
      "c:\\Users\\goche\\anaconda3\\envs\\MSCI446\\Lib\\site-packages\\sklearn\\base.py:432: UserWarning: X has feature names, but SelectFromModel was fitted without feature names\n",
      "  warnings.warn(\n",
      "c:\\Users\\goche\\anaconda3\\envs\\MSCI446\\Lib\\site-packages\\sklearn\\base.py:432: UserWarning: X has feature names, but SelectFromModel was fitted without feature names\n",
      "  warnings.warn(\n"
     ]
    },
    {
     "name": "stdout",
     "output_type": "stream",
     "text": [
      "Selected Features: ['FG3A', 'FG3_PCT', 'FT_PCT']\n",
      "Mean Squared Error on Test Set: 1.134807692307692\n",
      "Average Mean Squared Error (Cross-validation): 1.5385889090909095\n"
     ]
    }
   ],
   "source": [
    "# Initialize a RandomForestRegressor\n",
    "model = RandomForestRegressor(random_state=42)\n",
    "\n",
    "# Train the model on the training set\n",
    "model.fit(X_train, y_train)\n",
    "\n",
    "# Feature selection based on model's importance\n",
    "feature_selector = SelectFromModel(model, prefit=True)\n",
    "\n",
    "# Manually specify feature names\n",
    "selected_features = X_train.columns[feature_selector.get_support()]\n",
    "\n",
    "# Transform the datasets\n",
    "X_train_selected = feature_selector.transform(X_train)\n",
    "X_test_selected = feature_selector.transform(X_test)\n",
    "\n",
    "# Print the selected features\n",
    "print(f'Selected Features: {list(selected_features)}')\n",
    "\n",
    "# Train and evaluate the model with selected features\n",
    "model.fit(X_train_selected, y_train)\n",
    "y_pred = model.predict(X_test_selected)\n",
    "mse = mean_squared_error(y_test, y_pred)\n",
    "print(f'Mean Squared Error on Test Set: {mse}')\n",
    "\n",
    "# Perform k-fold cross-validation on the selected features\n",
    "cv_mse_scores = cross_val_score(model, X_train_selected, y_train, cv=5, scoring='neg_mean_squared_error')\n",
    "average_cv_mse = np.mean(-cv_mse_scores)\n",
    "print(f'Average Mean Squared Error (Cross-validation): {average_cv_mse}')"
   ]
  },
  {
   "cell_type": "code",
   "execution_count": 22,
   "metadata": {},
   "outputs": [
    {
     "name": "stdout",
     "output_type": "stream",
     "text": [
      "Cross-Validation Mean MSE: 0.08306006041406534\n",
      "Cross-Validation Standard Deviation: 0.045614850586220404\n"
     ]
    }
   ],
   "source": [
    "# Specify the Ridge Regression model\n",
    "ridge_model = Ridge(alpha=1.0)  # You can adjust the alpha parameter for regularization\n",
    "\n",
    "# Specify the number of folds for cross-validation\n",
    "num_folds = 5\n",
    "kf = KFold(n_splits=num_folds, shuffle=True, random_state=42)\n",
    "\n",
    "# Perform k-fold cross-validation\n",
    "cross_val_results = cross_val_score(ridge_model, X_train, y_train, cv=kf, scoring='neg_mean_squared_error')\n",
    "\n",
    "# Convert the negative mean squared errors to positive values\n",
    "cross_val_results = -cross_val_results\n",
    "\n",
    "# Print the cross-validation results\n",
    "print(f'Cross-Validation Mean MSE: {cross_val_results.mean()}')\n",
    "print(f'Cross-Validation Standard Deviation: {cross_val_results.std()}')\n"
   ]
  },
  {
   "cell_type": "code",
   "execution_count": null,
   "metadata": {},
   "outputs": [],
   "source": [
    "# Specify the Lasso Regression model\n",
    "lasso_model = Lasso(alpha=1.0)  # You can adjust the alpha parameter for regularization\n",
    "\n",
    "# Specify the number of folds for cross-validation\n",
    "num_folds = 5\n",
    "kf = KFold(n_splits=num_folds, shuffle=True, random_state=42)\n",
    "\n",
    "# Perform k-fold cross-validation\n",
    "cross_val_results = cross_val_score(lasso_model, X_train, y_train, cv=kf, scoring='neg_mean_squared_error')\n",
    "\n",
    "# Convert the negative mean squared errors to positive values\n",
    "cross_val_results = -cross_val_results\n",
    "\n",
    "# Print the cross-validation results\n",
    "print(f'Cross-Validation Mean MSE: {cross_val_results.mean()}')\n",
    "print(f'Cross-Validation Standard Deviation: {cross_val_results.std()}')\n"
   ]
  }
 ],
 "metadata": {
  "kernelspec": {
   "display_name": "MSCI446",
   "language": "python",
   "name": "python3"
  },
  "language_info": {
   "codemirror_mode": {
    "name": "ipython",
    "version": 3
   },
   "file_extension": ".py",
   "mimetype": "text/x-python",
   "name": "python",
   "nbconvert_exporter": "python",
   "pygments_lexer": "ipython3",
   "version": "3.11.7"
  }
 },
 "nbformat": 4,
 "nbformat_minor": 2
}
