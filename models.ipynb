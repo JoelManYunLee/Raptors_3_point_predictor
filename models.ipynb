{
 "cells": [
  {
   "cell_type": "code",
   "execution_count": 35,
   "metadata": {},
   "outputs": [],
   "source": [
    "import pandas as pd\n",
    "import numpy as np\n",
    "\n",
    "from sklearn.ensemble import RandomForestRegressor\n",
    "from sklearn.model_selection import KFold, cross_val_score\n",
    "from sklearn.metrics import mean_squared_error, r2_score\n",
    "from sklearn.model_selection import train_test_split\n",
    "from sklearn.linear_model import Ridge"
   ]
  },
  {
   "cell_type": "code",
   "execution_count": 36,
   "metadata": {},
   "outputs": [],
   "source": [
    "# Get stats from csv\n",
    "games_df = pd.read_csv('summary_data.csv')"
   ]
  },
  {
   "cell_type": "code",
   "execution_count": 43,
   "metadata": {},
   "outputs": [],
   "source": [
    "# Baseline model: Splitting testing and training data with FG3M as the output\n",
    "X = games_df[['three_pm_avg_to_date']]\n",
    "y = games_df['team_three_pm_next_game']\n",
    "\n",
    "# Baseline + FT% model:\n",
    "#X = games_df[['three_pm_avg_to_date', 'free_throw_percent_avg_to_date']]\n",
    "#y = games_df['team_three_pm_next_game']\n",
    "\n",
    "X_train, X_test, y_train, y_test = train_test_split(X, y, test_size=0.2, random_state=42)"
   ]
  },
  {
   "cell_type": "code",
   "execution_count": 38,
   "metadata": {},
   "outputs": [
    {
     "name": "stdout",
     "output_type": "stream",
     "text": [
      "Average R-squared value (Cross-validation): 0.1320383552833372\n",
      "Average Mean Squared Error (Cross-validation): 10.335062906339108\n"
     ]
    }
   ],
   "source": [
    "# Initialize a RandomForestRegressor\n",
    "rf_model = RandomForestRegressor(random_state=42)\n",
    "\n",
    "# Define k-fold cross-validation\n",
    "kf = KFold(n_splits=5, shuffle=True, random_state=42)\n",
    "\n",
    "# Perform k-fold cross-validation on the training set\n",
    "cv_r2_scores = cross_val_score(rf_model, X_train, y_train, cv=kf, scoring='r2')\n",
    "average_cv_r2 = np.mean(cv_r2_scores)\n",
    "\n",
    "cv_mse_scores = cross_val_score(rf_model, X_train, y_train, cv=kf, scoring='neg_mean_squared_error')\n",
    "average_cv_mse = -np.mean(cv_mse_scores)\n",
    "\n",
    "# Print the results\n",
    "print(f'Average R-squared value (Cross-validation): {average_cv_r2}')\n",
    "print(f'Average Mean Squared Error (Cross-validation): {average_cv_mse}')"
   ]
  },
  {
   "cell_type": "code",
   "execution_count": 45,
   "metadata": {},
   "outputs": [
    {
     "name": "stdout",
     "output_type": "stream",
     "text": [
      "Average R-squared value (Cross-validation): 0.2948073393866424\n",
      "Average Mean Squared Error (Cross-validation): 8.39769966168765\n"
     ]
    }
   ],
   "source": [
    "# Initialize a Ridge model\n",
    "ridge_model = Ridge(alpha=1.0)  # You can adjust the regularization strength (alpha) as needed\n",
    "\n",
    "# Define k-fold cross-validation\n",
    "kf = KFold(n_splits=5, shuffle=True, random_state=42)\n",
    "\n",
    "# Perform k-fold cross-validation on the training set\n",
    "cv_r2_scores = cross_val_score(ridge_model, X_train, y_train, cv=kf, scoring='r2')\n",
    "average_cv_r2 = np.mean(cv_r2_scores)\n",
    "\n",
    "cv_mse_scores = cross_val_score(ridge_model, X_train, y_train, cv=kf, scoring='neg_mean_squared_error')\n",
    "average_cv_mse = -np.mean(cv_mse_scores)\n",
    "\n",
    "# Print the results\n",
    "print(f'Average R-squared value (Cross-validation): {average_cv_r2}')\n",
    "print(f'Average Mean Squared Error (Cross-validation): {average_cv_mse}')"
   ]
  },
  {
   "cell_type": "code",
   "execution_count": 46,
   "metadata": {},
   "outputs": [
    {
     "name": "stdout",
     "output_type": "stream",
     "text": [
      "Average R-squared value (Cross-validation): 0.2752552435384342\n",
      "Average Mean Squared Error (Cross-validation): 8.636009118409959\n"
     ]
    }
   ],
   "source": [
    "# Initialize a Lasso Regression model\n",
    "lasso_model = Lasso(alpha=1.0)  # You can adjust the regularization strength (alpha) as needed\n",
    "\n",
    "# Define k-fold cross-validation\n",
    "kf = KFold(n_splits=5, shuffle=True, random_state=42)\n",
    "\n",
    "# Perform k-fold cross-validation\n",
    "cv_r2_scores = cross_val_score(lasso_model, X, y, cv=kf, scoring='r2')\n",
    "average_cv_r2 = np.mean(cv_r2_scores)\n",
    "\n",
    "cv_mse_scores = -cross_val_score(lasso_model, X, y, cv=kf, scoring='neg_mean_squared_error')\n",
    "average_cv_mse = np.mean(cv_mse_scores)\n",
    "\n",
    "# Print the results\n",
    "print(f'Average R-squared value (Cross-validation): {average_cv_r2}')\n",
    "print(f'Average Mean Squared Error (Cross-validation): {average_cv_mse}')"
   ]
  }
 ],
 "metadata": {
  "kernelspec": {
   "display_name": "MSCI446",
   "language": "python",
   "name": "python3"
  },
  "language_info": {
   "codemirror_mode": {
    "name": "ipython",
    "version": 3
   },
   "file_extension": ".py",
   "mimetype": "text/x-python",
   "name": "python",
   "nbconvert_exporter": "python",
   "pygments_lexer": "ipython3",
   "version": "3.11.7"
  }
 },
 "nbformat": 4,
 "nbformat_minor": 2
}
