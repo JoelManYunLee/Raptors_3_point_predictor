{
 "cells": [
  {
   "cell_type": "code",
   "execution_count": 22,
   "metadata": {},
   "outputs": [],
   "source": [
    "import pandas as pd\n",
    "import numpy as np\n",
    "\n",
    "from sklearn.ensemble import RandomForestRegressor\n",
    "from sklearn.model_selection import cross_val_score, KFold, train_test_split, cross_val_predict\n",
    "from sklearn.metrics import mean_squared_error, r2_score\n",
    "from sklearn.linear_model import Ridge, Lasso\n",
    "\n",
    "import xgboost as xgb"
   ]
  },
  {
   "cell_type": "code",
   "execution_count": 23,
   "metadata": {},
   "outputs": [],
   "source": [
    "# Get stats from csv\n",
    "games_df = pd.read_csv('summary_data.csv')"
   ]
  },
  {
   "cell_type": "code",
   "execution_count": 24,
   "metadata": {},
   "outputs": [],
   "source": [
    "# Baseline model: Splitting testing and training data with FG3M as the output\n",
    "#X = games_df[['three_pm_avg_to_date']]\n",
    "#y = games_df['team_three_pm_next_game']\n",
    "\n",
    "# Baseline + FT% model:\n",
    "#X = games_df[['three_pm_avg_to_date', 'free_throw_percent_avg_to_date']]\n",
    "#y = games_df['team_three_pm_next_game']\n",
    "\n",
    "# Baseline + Orating model:\n",
    "#X = games_df[['three_pm_avg_to_date', 'orating_avg_to_date']]\n",
    "# y = games_df['team_three_pm_next_game']\n",
    "\n",
    "# Baseline + Orating + Ft%:\n",
    "#X = games_df[['team_three_pm_avg_to_date', 'team_free_throw_percent_avg_to_date', 'team_orating_avg_to_date']]\n",
    "#y = games_df['team_three_pm_next_game']\n",
    "\n",
    "# Everything model\n",
    "X = games_df[[col for col in games_df.columns if 'avg_to_date' in col or 'last_5' in col]]\n",
    "y = games_df['team_three_pm_next_game']\n",
    "\n",
    "X_train, X_test, y_train, y_test = train_test_split(X, y, test_size=0.2, random_state=42)"
   ]
  },
  {
   "cell_type": "code",
   "execution_count": 25,
   "metadata": {},
   "outputs": [],
   "source": [
    "# # Define the random forest regressor model\n",
    "# rf_model = RandomForestRegressor()\n",
    "\n",
    "# # Define the number of folds for cross-validation\n",
    "# k_folds = 5\n",
    "\n",
    "# # Define KFold cross-validator\n",
    "# kf = KFold(n_splits=k_folds, shuffle=True, random_state=42)\n",
    "\n",
    "# # Perform cross-validation and get scores\n",
    "# mse_scores = -cross_val_score(rf_model, X_train, y_train, cv=kf, scoring='neg_mean_squared_error')\n",
    "# r2_scores = cross_val_score(rf_model, X_train, y_train, cv=kf, scoring='r2')\n",
    "\n",
    "# # Calculate mean scores\n",
    "# mean_mse = np.mean(mse_scores)\n",
    "# mean_r2 = np.mean(r2_scores)\n",
    "\n",
    "# print(\"Mean Squared Error (MSE) across {} folds: {:.4f}\".format(k_folds, mean_mse))\n",
    "# print(\"Mean R-squared (R^2) across {} folds: {:.4f}\".format(k_folds, mean_r2))\n"
   ]
  },
  {
   "cell_type": "code",
   "execution_count": 26,
   "metadata": {},
   "outputs": [
    {
     "name": "stdout",
     "output_type": "stream",
     "text": [
      "team_fga_avg_to_date: 0.02217787131667137\n",
      "team_fgm_avg_to_date: 0.008329637348651886\n",
      "team_free_throw_percent_avg_to_date: 0.007545917294919491\n",
      "team_three_percent_avg_to_date: 0.007407812867313623\n",
      "team_three_pa_avg_to_date: 0.5514865517616272\n",
      "team_three_pm_avg_to_date: 0.26705679297447205\n",
      "team_orating_avg_to_date: 0.0094875143840909\n",
      "team_oreb_avg_to_date: 0.008693582378327847\n",
      "team_dreb_avg_to_date: 0.00858371239155531\n",
      "team_to_avg_to_date: 0.008571433834731579\n",
      "team_points_avg_to_date: 0.10065922141075134\n",
      "Mean Squared Error (MSE): 8.25346179632256\n",
      "R-squared (R^2): 0.3051616860118217\n"
     ]
    }
   ],
   "source": [
    "# Define XGBoost Random Forest parameters\n",
    "params = {\n",
    "    'objective': 'reg:squarederror',  # Regression task\n",
    "    'eval_metric': 'rmse',  # Root Mean Squared Error\n",
    "    'booster': 'gbtree',  # Use tree-based models\n",
    "    'subsample': 0.8,  # Subsample ratio of the training instances\n",
    "    'colsample_bynode': 0.8,  # Subsample ratio of columns when constructing each tree\n",
    "    'tree_method': 'hist'  # Use histogram-based algorithms for approximate tree method\n",
    "}\n",
    "\n",
    "# Initialize the XGBoost Random Forest model\n",
    "xgb_model = xgb.XGBRFRegressor(**params)\n",
    "\n",
    "# Fit the model to your data\n",
    "xgb_model.fit(X, y)\n",
    "\n",
    "# Get feature importances\n",
    "feature_importances = xgb_model.feature_importances_\n",
    "\n",
    "# Create a list of feature names\n",
    "feature_names = X.columns\n",
    "\n",
    "# Print the importance of each feature\n",
    "for name, importance in zip(feature_names, feature_importances):\n",
    "    print(f\"{name}: {importance}\")\n",
    "\n",
    "# Define 5-fold cross-validation\n",
    "kf = KFold(n_splits=5, shuffle=True, random_state=42)\n",
    "\n",
    "# Perform cross-validation and get predictions\n",
    "y_pred = cross_val_predict(xgb_model, X, y, cv=kf)\n",
    "\n",
    "# Calculate Mean Squared Error\n",
    "mse = mean_squared_error(y, y_pred)\n",
    "\n",
    "# Calculate R-squared\n",
    "r2 = r2_score(y, y_pred)\n",
    "\n",
    "# Print the MSE and R-squared values\n",
    "print(\"Mean Squared Error (MSE):\", mse)\n",
    "print(\"R-squared (R^2):\", r2)\n"
   ]
  },
  {
   "cell_type": "code",
   "execution_count": 27,
   "metadata": {},
   "outputs": [
    {
     "name": "stdout",
     "output_type": "stream",
     "text": [
      "Average R-squared value (Cross-validation): 0.3035418094274702\n",
      "Average Mean Squared Error (Cross-validation): 8.289422296594992\n"
     ]
    }
   ],
   "source": [
    "# Initialize a Ridge model\n",
    "ridge_model = Ridge(alpha=1.0)  # You can adjust the regularization strength (alpha) as needed\n",
    "\n",
    "# Define k-fold cross-validation\n",
    "kf = KFold(n_splits=5, shuffle=True, random_state=42)\n",
    "\n",
    "# Perform k-fold cross-validation on the training set\n",
    "cv_r2_scores = cross_val_score(ridge_model, X_train, y_train, cv=kf, scoring='r2')\n",
    "average_cv_r2 = np.mean(cv_r2_scores)\n",
    "\n",
    "cv_mse_scores = cross_val_score(ridge_model, X_train, y_train, cv=kf, scoring='neg_mean_squared_error')\n",
    "average_cv_mse = -np.mean(cv_mse_scores)\n",
    "\n",
    "# Print the results\n",
    "print(f'Average R-squared value (Cross-validation): {average_cv_r2}')\n",
    "print(f'Average Mean Squared Error (Cross-validation): {average_cv_mse}')"
   ]
  },
  {
   "cell_type": "code",
   "execution_count": 28,
   "metadata": {},
   "outputs": [
    {
     "name": "stdout",
     "output_type": "stream",
     "text": [
      "Average R-squared value (Cross-validation): 0.29568782447836295\n",
      "Average Mean Squared Error (Cross-validation): 8.365343825529681\n"
     ]
    }
   ],
   "source": [
    "# Initialize a Lasso Regression model\n",
    "lasso_model = Lasso(alpha=1.0)  # You can adjust the regularization strength (alpha) as needed\n",
    "\n",
    "# Define k-fold cross-validation\n",
    "kf = KFold(n_splits=5, shuffle=True, random_state=42)\n",
    "\n",
    "# Perform k-fold cross-validation\n",
    "cv_r2_scores = cross_val_score(lasso_model, X, y, cv=kf, scoring='r2')\n",
    "average_cv_r2 = np.mean(cv_r2_scores)\n",
    "\n",
    "cv_mse_scores = -cross_val_score(lasso_model, X, y, cv=kf, scoring='neg_mean_squared_error')\n",
    "average_cv_mse = np.mean(cv_mse_scores)\n",
    "\n",
    "# Print the results\n",
    "print(f'Average R-squared value (Cross-validation): {average_cv_r2}')\n",
    "print(f'Average Mean Squared Error (Cross-validation): {average_cv_mse}')"
   ]
  }
 ],
 "metadata": {
  "kernelspec": {
   "display_name": "MSCI446",
   "language": "python",
   "name": "python3"
  },
  "language_info": {
   "codemirror_mode": {
    "name": "ipython",
    "version": 3
   },
   "file_extension": ".py",
   "mimetype": "text/x-python",
   "name": "python",
   "nbconvert_exporter": "python",
   "pygments_lexer": "ipython3",
   "version": "3.11.7"
  }
 },
 "nbformat": 4,
 "nbformat_minor": 2
}
