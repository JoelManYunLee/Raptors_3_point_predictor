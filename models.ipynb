{
 "cells": [
  {
   "cell_type": "code",
   "execution_count": 48,
   "metadata": {},
   "outputs": [],
   "source": [
    "import pandas as pd\n",
    "import numpy as np\n",
    "\n",
    "from sklearn.ensemble import RandomForestRegressor\n",
    "from sklearn.model_selection import cross_val_score, KFold, train_test_split, cross_val_predict\n",
    "from sklearn.metrics import mean_squared_error, r2_score\n",
    "from sklearn.linear_model import Ridge, Lasso\n",
    "\n",
    "import xgboost as xgb"
   ]
  },
  {
   "cell_type": "code",
   "execution_count": 75,
   "metadata": {},
   "outputs": [],
   "source": [
    "# Get stats from csv\n",
    "games_df = pd.read_csv('summary_data.csv')"
   ]
  },
  {
   "cell_type": "code",
   "execution_count": 76,
   "metadata": {},
   "outputs": [],
   "source": [
    "# Baseline model: Splitting testing and training data with FG3M as the output\n",
    "#X = games_df[['three_pm_avg_to_date']]\n",
    "#y = games_df['team_three_pm_next_game']\n",
    "\n",
    "# Baseline + FT% model:\n",
    "#X = games_df[['three_pm_avg_to_date', 'free_throw_percent_avg_to_date']]\n",
    "#y = games_df['team_three_pm_next_game']\n",
    "\n",
    "# Baseline + Orating model:\n",
    "#X = games_df[['three_pm_avg_to_date', 'orating_avg_to_date']]\n",
    "# y = games_df['team_three_pm_next_game']\n",
    "\n",
    "# Baseline + Orating + Ft%:\n",
    "#X = games_df[['team_three_pm_avg_to_date', 'team_free_throw_percent_avg_to_date', 'team_orating_avg_to_date']]\n",
    "#y = games_df['team_three_pm_next_game']\n",
    "\n",
    "# Everything model\n",
    "X = games_df[[col for col in games_df.columns if 'avg_to_date' in col]]\n",
    "y = games_df['team_three_pm_next_game']\n",
    "\n",
    "X_train, X_test, y_train, y_test = train_test_split(X, y, test_size=0.2, random_state=42)"
   ]
  },
  {
   "cell_type": "code",
   "execution_count": 77,
   "metadata": {},
   "outputs": [],
   "source": [
    "# # Define the random forest regressor model\n",
    "# rf_model = RandomForestRegressor()\n",
    "\n",
    "# # Define the number of folds for cross-validation\n",
    "# k_folds = 5\n",
    "\n",
    "# # Define KFold cross-validator\n",
    "# kf = KFold(n_splits=k_folds, shuffle=True, random_state=42)\n",
    "\n",
    "# # Perform cross-validation and get scores\n",
    "# mse_scores = -cross_val_score(rf_model, X_train, y_train, cv=kf, scoring='neg_mean_squared_error')\n",
    "# r2_scores = cross_val_score(rf_model, X_train, y_train, cv=kf, scoring='r2')\n",
    "\n",
    "# # Calculate mean scores\n",
    "# mean_mse = np.mean(mse_scores)\n",
    "# mean_r2 = np.mean(r2_scores)\n",
    "\n",
    "# print(\"Mean Squared Error (MSE) across {} folds: {:.4f}\".format(k_folds, mean_mse))\n",
    "# print(\"Mean R-squared (R^2) across {} folds: {:.4f}\".format(k_folds, mean_r2))\n"
   ]
  },
  {
   "cell_type": "code",
   "execution_count": 78,
   "metadata": {},
   "outputs": [
    {
     "name": "stdout",
     "output_type": "stream",
     "text": [
      "team_fgm_avg_to_date: 0.08885455876588821\n",
      "team_free_throw_percent_avg_to_date: 0.008198514580726624\n",
      "team_three_percent_avg_to_date: 0.011869129724800587\n",
      "team_three_pm_avg_to_date: 0.512782096862793\n",
      "team_orating_avg_to_date: 0.006755194626748562\n",
      "team_oreb_avg_to_date: 0.007931159809231758\n",
      "team_dreb_avg_to_date: 0.013699280098080635\n",
      "team_to_avg_to_date: 0.008112212643027306\n",
      "team_points_avg_to_date: 0.3417978286743164\n",
      "Mean Squared Error (MSE): 8.305174408721527\n",
      "R-squared (R^2): 0.30080813046168486\n"
     ]
    }
   ],
   "source": [
    "# Define XGBoost Random Forest parameters\n",
    "params = {\n",
    "    'objective': 'reg:squarederror',  # Regression task\n",
    "    'eval_metric': 'rmse',  # Root Mean Squared Error\n",
    "    'booster': 'gbtree',  # Use tree-based models\n",
    "    'subsample': 0.8,  # Subsample ratio of the training instances\n",
    "    'colsample_bynode': 0.8,  # Subsample ratio of columns when constructing each tree\n",
    "    'tree_method': 'hist'  # Use histogram-based algorithms for approximate tree method\n",
    "}\n",
    "\n",
    "# Initialize the XGBoost Random Forest model\n",
    "xgb_model = xgb.XGBRFRegressor(**params)\n",
    "\n",
    "# Fit the model to your data\n",
    "xgb_model.fit(X, y)\n",
    "\n",
    "# Get feature importances\n",
    "feature_importances = xgb_model.feature_importances_\n",
    "\n",
    "# Create a list of feature names\n",
    "feature_names = X.columns\n",
    "\n",
    "# Print the importance of each feature\n",
    "for name, importance in zip(feature_names, feature_importances):\n",
    "    print(f\"{name}: {importance}\")\n",
    "\n",
    "# Define 5-fold cross-validation\n",
    "kf = KFold(n_splits=5, shuffle=True, random_state=42)\n",
    "\n",
    "# Perform cross-validation and get predictions\n",
    "y_pred = cross_val_predict(xgb_model, X, y, cv=kf)\n",
    "\n",
    "# Calculate Mean Squared Error\n",
    "mse = mean_squared_error(y, y_pred)\n",
    "\n",
    "# Calculate R-squared\n",
    "r2 = r2_score(y, y_pred)\n",
    "\n",
    "# Print the MSE and R-squared values\n",
    "print(\"Mean Squared Error (MSE):\", mse)\n",
    "print(\"R-squared (R^2):\", r2)\n"
   ]
  },
  {
   "cell_type": "code",
   "execution_count": 79,
   "metadata": {},
   "outputs": [
    {
     "name": "stdout",
     "output_type": "stream",
     "text": [
      "Average R-squared value (Cross-validation): 0.2979710742020805\n",
      "Average Mean Squared Error (Cross-validation): 8.355733189941011\n"
     ]
    }
   ],
   "source": [
    "# Initialize a Ridge model\n",
    "ridge_model = Ridge(alpha=1.0)  # You can adjust the regularization strength (alpha) as needed\n",
    "\n",
    "# Define k-fold cross-validation\n",
    "kf = KFold(n_splits=5, shuffle=True, random_state=42)\n",
    "\n",
    "# Perform k-fold cross-validation on the training set\n",
    "cv_r2_scores = cross_val_score(ridge_model, X_train, y_train, cv=kf, scoring='r2')\n",
    "average_cv_r2 = np.mean(cv_r2_scores)\n",
    "\n",
    "cv_mse_scores = cross_val_score(ridge_model, X_train, y_train, cv=kf, scoring='neg_mean_squared_error')\n",
    "average_cv_mse = -np.mean(cv_mse_scores)\n",
    "\n",
    "# Print the results\n",
    "print(f'Average R-squared value (Cross-validation): {average_cv_r2}')\n",
    "print(f'Average Mean Squared Error (Cross-validation): {average_cv_mse}')"
   ]
  },
  {
   "cell_type": "code",
   "execution_count": 80,
   "metadata": {},
   "outputs": [
    {
     "name": "stdout",
     "output_type": "stream",
     "text": [
      "Average R-squared value (Cross-validation): 0.24324490571768626\n",
      "Average Mean Squared Error (Cross-validation): 8.988109017473457\n"
     ]
    }
   ],
   "source": [
    "# Initialize a Lasso Regression model\n",
    "lasso_model = Lasso(alpha=1.0)  # You can adjust the regularization strength (alpha) as needed\n",
    "\n",
    "# Define k-fold cross-validation\n",
    "kf = KFold(n_splits=5, shuffle=True, random_state=42)\n",
    "\n",
    "# Perform k-fold cross-validation\n",
    "cv_r2_scores = cross_val_score(lasso_model, X, y, cv=kf, scoring='r2')\n",
    "average_cv_r2 = np.mean(cv_r2_scores)\n",
    "\n",
    "cv_mse_scores = -cross_val_score(lasso_model, X, y, cv=kf, scoring='neg_mean_squared_error')\n",
    "average_cv_mse = np.mean(cv_mse_scores)\n",
    "\n",
    "# Print the results\n",
    "print(f'Average R-squared value (Cross-validation): {average_cv_r2}')\n",
    "print(f'Average Mean Squared Error (Cross-validation): {average_cv_mse}')"
   ]
  }
 ],
 "metadata": {
  "kernelspec": {
   "display_name": "MSCI446",
   "language": "python",
   "name": "python3"
  },
  "language_info": {
   "codemirror_mode": {
    "name": "ipython",
    "version": 3
   },
   "file_extension": ".py",
   "mimetype": "text/x-python",
   "name": "python",
   "nbconvert_exporter": "python",
   "pygments_lexer": "ipython3",
   "version": "3.11.7"
  }
 },
 "nbformat": 4,
 "nbformat_minor": 2
}
